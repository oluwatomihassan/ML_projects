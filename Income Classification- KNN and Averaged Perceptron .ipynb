{
 "cells": [
  {
   "cell_type": "markdown",
   "id": "a90e42ef",
   "metadata": {},
   "source": [
    "## Project Goal\n",
    "The goal of this project is to implement k-nearest and averaged perceptron from scratch for binary income classification on semi-blind data. The data folder includes training data (5000 examples with labels), dev data (1000 examples with labels) and the semi-blind test data (1000 examples without labels). "
   ]
  },
  {
   "cell_type": "markdown",
   "id": "27687989",
   "metadata": {},
   "source": [
    "### Importing packages"
   ]
  },
  {
   "cell_type": "code",
   "execution_count": 141,
   "id": "2b0de402",
   "metadata": {},
   "outputs": [],
   "source": [
    "import numpy as np \n",
    "import time"
   ]
  },
  {
   "cell_type": "markdown",
   "id": "7fb01d05",
   "metadata": {},
   "source": [
    "### K-Nearest Algorithm"
   ]
  },
  {
   "cell_type": "code",
   "execution_count": 118,
   "id": "214dc3d7",
   "metadata": {},
   "outputs": [],
   "source": [
    "def data(file):\n",
    "    data = [s.strip().split(\", \") for s in open(file).readlines()]\n",
    "    numerical_fields = [0,7]\n",
    "    new_data, perc_targets, knn_targets, num_data = [], [], [], []\n",
    "    mapping = {} #DO NOT initialize for dev\n",
    "    for row in data:\n",
    "        bin_row, numerical_row =[], []\n",
    "        for j, x in enumerate(row):\n",
    "            feature = (j,x)\n",
    "            if j in numerical_fields:\n",
    "                numerical_row.append(float(x)/50) #normalizes numerical field\n",
    "            if j == 9:\n",
    "                knn_targets.append(x)\n",
    "                if x == \">50K\": \n",
    "                    perc_targets.append(1)\n",
    "                else:\n",
    "                    perc_targets.append(-1)\n",
    "            else:\n",
    "                if j not in numerical_fields: # preserves numerical data for knn \n",
    "                    if feature not in mapping: \n",
    "                        mapping[feature]= len(mapping)\n",
    "                    if feature in mapping: # INCLUDE for dev instead of if statement above and indent line below\n",
    "                        bin_row.append(mapping[feature])\n",
    "        new_data.append(bin_row)\n",
    "        num_data.append(numerical_row)\n",
    "    x_dim, y_dim = len(new_data), len(mapping)\n",
    "    binary_data = np.zeros((x_dim,y_dim))\n",
    "    for i, row in enumerate(new_data):\n",
    "        for x in row: \n",
    "            binary_data[i][x] =1\n",
    "    #add bias, see slides 4.13-15\n",
    "    bin_with_bias = np.concatenate((binary_data, np.ones((binary_data.shape[0],1))), axis=1)\n",
    "    return np.array(bin_with_bias), np.array(perc_targets), mapping  # remove mapping variable for dev"
   ]
  },
  {
   "cell_type": "code",
   "execution_count": 60,
   "id": "1ce05c2f",
   "metadata": {},
   "outputs": [],
   "source": [
    "# Training set, targets, numerical data and mapping\n",
    "train, train_knn_targets, train_num_data = data('./data/income.train.txt.5k')"
   ]
  },
  {
   "cell_type": "code",
   "execution_count": 62,
   "id": "57f2bee2",
   "metadata": {},
   "outputs": [],
   "source": [
    "train_with_num = np.concatenate((train, train_num_data), axis=1)"
   ]
  },
  {
   "cell_type": "code",
   "execution_count": 64,
   "id": "91cc1dff",
   "metadata": {},
   "outputs": [],
   "source": [
    "# Dev Set \n",
    "dev, dev_knn_targets, dev_num_data = data('./data/income.dev.txt')"
   ]
  },
  {
   "cell_type": "code",
   "execution_count": 65,
   "id": "5e314b09",
   "metadata": {},
   "outputs": [],
   "source": [
    "dev_with_num = np.concatenate((dev, dev_num_data), axis=1)"
   ]
  },
  {
   "cell_type": "code",
   "execution_count": 72,
   "id": "076ace47",
   "metadata": {},
   "outputs": [],
   "source": [
    "# blind set, targets, numerical data and mapping\n",
    "blind, blind_knn_targets, blind_num_data = data('./data/income.test.blind') # blind_knn_target is empty"
   ]
  },
  {
   "cell_type": "code",
   "execution_count": 77,
   "id": "2e3afe5c",
   "metadata": {},
   "outputs": [],
   "source": [
    "blind_with_num = np.concatenate((blind, blind_num_data), axis=1)"
   ]
  },
  {
   "cell_type": "code",
   "execution_count": 78,
   "id": "934018bf",
   "metadata": {},
   "outputs": [],
   "source": [
    "# Euclidean dev error rate for kNN \n",
    "def euc_dev_error(train_set,train_label,dev_set,dev_label,k): \n",
    "    predictions=[]\n",
    "    labels=np.array(train_label)\n",
    "    for i, test in enumerate(dev_set):\n",
    "        pos_pred, neg_pred = 0 , 0\n",
    "        true_label = dev_label[i]\n",
    "        euc_dist = np.linalg.norm(train_set-test, axis=1)\n",
    "        nearest = labels[np.argsort(euc_dist)[:k]]\n",
    "        for neighbor in nearest:\n",
    "            if neighbor == '>50K': \n",
    "                pos_pred += 1\n",
    "            else: \n",
    "                neg_pred += 1\n",
    "        if pos_pred > neg_pred:\n",
    "            knn_pred = \">50K\"\n",
    "        else: \n",
    "            knn_pred = \"<=50K\"\n",
    "        if knn_pred == true_label: \n",
    "            pred=1\n",
    "        else:\n",
    "            pred=0\n",
    "        predictions.append(pred)\n",
    "    dev_error = (len(dev_label)-np.sum(predictions))/len(dev_label)*100\n",
    "    return f\"The euclidean dev error rate is for {k}-NN is {dev_error}%\""
   ]
  },
  {
   "cell_type": "code",
   "execution_count": 79,
   "id": "76ce220f",
   "metadata": {
    "scrolled": true
   },
   "outputs": [
    {
     "name": "stdout",
     "output_type": "stream",
     "text": [
      "The euclidean dev error rate is for 1-NN is 22.900000000000002%\n",
      "The euclidean dev error rate is for 11-NN is 16.3%\n",
      "The euclidean dev error rate is for 21-NN is 15.9%\n",
      "The euclidean dev error rate is for 31-NN is 15.4%\n",
      "The euclidean dev error rate is for 41-NN is 14.6%\n",
      "The euclidean dev error rate is for 51-NN is 15.299999999999999%\n",
      "The euclidean dev error rate is for 61-NN is 15.299999999999999%\n",
      "The euclidean dev error rate is for 71-NN is 15.2%\n",
      "The euclidean dev error rate is for 81-NN is 15.5%\n",
      "The euclidean dev error rate is for 91-NN is 15.5%\n"
     ]
    }
   ],
   "source": [
    "# finding optimal k using euclidean distance\n",
    "for k in range(1,100,10):\n",
    "    print(euc_dev_error(train_with_num,train_knn_targets,dev_with_num,dev_knn_targets,k))"
   ]
  },
  {
   "cell_type": "code",
   "execution_count": 89,
   "id": "e446d809",
   "metadata": {},
   "outputs": [],
   "source": [
    "def blind_predictions(train, labels, blind_rawfile, k):\n",
    "    for i, new_test in enumerate(blind_with_num):\n",
    "        pos_pred, neg_pred  = 0 , 0\n",
    "        euc_dist = np.linalg.norm(train-new_test, axis=1)\n",
    "        nearest = labels[np.argsort(euc_dist)[:k]]\n",
    "        for neighbor in nearest:\n",
    "            if neighbor == '>50K': \n",
    "                pos_pred += 1\n",
    "            else: \n",
    "                neg_pred += 1\n",
    "        if pos_pred > neg_pred:\n",
    "            knn_pred = \">50K\"\n",
    "        else: \n",
    "            knn_pred = \"<=50K\"\n",
    "        blind_rawfile[i].append(knn_pred)"
   ]
  },
  {
   "cell_type": "code",
   "execution_count": 205,
   "id": "d7ca3610",
   "metadata": {},
   "outputs": [],
   "source": [
    "raw_blind = [s.strip().split(\",\") for s in open('./data/income.test.blind').readlines()]"
   ]
  },
  {
   "cell_type": "code",
   "execution_count": 91,
   "id": "ffa2919d",
   "metadata": {},
   "outputs": [],
   "source": [
    "# Predict on semi-blind test data.\n",
    "blind_predictions(train_with_num, train_knn_targets, raw_blind,41)"
   ]
  },
  {
   "cell_type": "code",
   "execution_count": 93,
   "id": "5741cd02",
   "metadata": {},
   "outputs": [],
   "source": [
    "with open(\"knn.income.test.predicted\", \"w\") as output_file:\n",
    "    for person in raw_blind:\n",
    "        for features in person:\n",
    "            output_file.write(str(features))\n",
    "            if features != person[-1]:\n",
    "                output_file.write(\", \")\n",
    "        output_file.write(\"\\n\")"
   ]
  },
  {
   "cell_type": "markdown",
   "id": "e10ce23d",
   "metadata": {},
   "source": [
    "### Averaged Perceptron Algorithm"
   ]
  },
  {
   "cell_type": "code",
   "execution_count": 116,
   "id": "661abf23",
   "metadata": {},
   "outputs": [],
   "source": [
    "# Training set, targets and mapping\n",
    "train, targets, mapping = data('./data/income.train.txt.5k')"
   ]
  },
  {
   "cell_type": "code",
   "execution_count": 119,
   "id": "06e7c504",
   "metadata": {},
   "outputs": [],
   "source": [
    "dev, dev_targets = data('./data/income.dev.txt')"
   ]
  },
  {
   "cell_type": "code",
   "execution_count": 186,
   "id": "229e6376",
   "metadata": {},
   "outputs": [],
   "source": [
    "blind, blind_targets = data('./data/income.test.blind')"
   ]
  },
  {
   "cell_type": "code",
   "execution_count": 131,
   "id": "d6728f9c",
   "metadata": {},
   "outputs": [],
   "source": [
    "def combo_features(train, mapping, col1, col2):\n",
    "    new_train = train.copy()\n",
    "    for f1 in mapping: \n",
    "        if f1[0] ==col1:\n",
    "            for f2 in mapping: \n",
    "                if f2[0] == col2:\n",
    "                    new_feats=((train[:,mapping[f1]] + train[:,mapping[f2]]) ==2).astype(np.int64)\n",
    "                    new_train = np.concatenate((new_train, new_feats[:, np.newaxis]), axis=1)\n",
    "    return new_train"
   ]
  },
  {
   "cell_type": "code",
   "execution_count": 132,
   "id": "cc3583e5",
   "metadata": {},
   "outputs": [],
   "source": [
    "# binarized train data with combination features of employment type status and COI\n",
    "combo_train = combo_features(train, mapping, 4,8)"
   ]
  },
  {
   "cell_type": "code",
   "execution_count": 135,
   "id": "72be7e35",
   "metadata": {},
   "outputs": [],
   "source": [
    "# binarized dev data with combination features of employment type status and COI\n",
    "combo_dev = combo_features(dev,mapping,4,8)"
   ]
  },
  {
   "cell_type": "code",
   "execution_count": 189,
   "id": "7d86578c",
   "metadata": {},
   "outputs": [],
   "source": [
    "combo_blind = combo_features(blind, mapping, 4,8)"
   ]
  },
  {
   "cell_type": "code",
   "execution_count": 160,
   "id": "291bc7cb",
   "metadata": {},
   "outputs": [],
   "source": [
    "# the evaluation on dev data.\n",
    "def evaluation(dev_data, labels,weight):\n",
    "    incorrect = 0\n",
    "    positive = 0\n",
    "    for feat, label in zip(dev_data, labels):\n",
    "    # make the prediction\n",
    "        pred = weight.dot(feat) \n",
    "        if pred > 0:\n",
    "            positive += 1\n",
    "        if pred * label <= 0:\n",
    "            incorrect += 1\n",
    "    err_rate = incorrect / len(labels) * 100\n",
    "    pos_rate = positive / len(labels) * 100\n",
    "    return err_rate, pos_rate"
   ]
  },
  {
   "cell_type": "code",
   "execution_count": null,
   "id": "ba2eb221",
   "metadata": {},
   "outputs": [],
   "source": [
    "# predict on dev data.\n",
    "def test(devfile, model):\n",
    "    tot, err = 0, 0\n",
    "    predictions, pos, neg = [], {}, {}\n",
    "    for i, (label, words) in enumerate(read_from(devfile), 1): # note 1...|D|\n",
    "        err += label * (model.dot(make_vector(words))) <= 0\n",
    "        pred = model.dot(make_vector(words))\n",
    "        if label ==1:\n",
    "            pos[i-1] = pred\n",
    "        else:\n",
    "            neg[i-1] = pred\n",
    "        predictions.append(pred)\n",
    "        \n",
    "    return err/i ,predictions, pos, neg  # i is |D| now"
   ]
  },
  {
   "cell_type": "code",
   "execution_count": 179,
   "id": "4b5c5abb",
   "metadata": {},
   "outputs": [],
   "source": [
    "\n",
    "def train_weights(train, targets, dev, dev_targets, n_epochs=5):\n",
    "    t = time.time()\n",
    "    weight = np.zeros(train.shape[-1])\n",
    "    w_a = np.zeros(train.shape[-1])\n",
    "    c = 1\n",
    "    for it in range(n_epochs):\n",
    "        updates = 0\n",
    "        for i , (feat, label) in enumerate(zip(train, targets)):\n",
    "            pred = weight.dot(feat)            \n",
    "            if pred * label <= 0:\n",
    "                # update the algorithm\n",
    "                weight += label * feat\n",
    "                w_a += label*feat * c\n",
    "                updates += 1\n",
    "            c +=1\n",
    "        avg_perc = weight - w_a/c\n",
    "        dev_err_rate, dev_pos_rate = evaluation(dev,dev_targets, avg_perc)\n",
    "        print(\"epoch %d, update %.1f%%, dev %.1f%% \" % (it, updates / i * 100, dev_err_rate))\n",
    "    return avg_perc"
   ]
  },
  {
   "cell_type": "code",
   "execution_count": 181,
   "id": "01a0261c",
   "metadata": {
    "scrolled": true
   },
   "outputs": [
    {
     "name": "stdout",
     "output_type": "stream",
     "text": [
      "epoch 0, update 25.4%, dev 14.8% \n",
      "epoch 1, update 24.2%, dev 14.0% \n"
     ]
    }
   ],
   "source": [
    "best_model = train_weights(combo_train,targets, combo_dev, dev_targets, n_epochs=2)"
   ]
  },
  {
   "cell_type": "code",
   "execution_count": 207,
   "id": "bbb63926",
   "metadata": {},
   "outputs": [],
   "source": [
    "# income.test.predicted with best perceptron algorithm(combo of occupation and COI)\n",
    "def perc_predictions(binarized_data, rawfile, model):\n",
    "    predictions = []\n",
    "    for i, new_test in enumerate(binarized_data): \n",
    "        pred = model.dot(new_test) \n",
    "        if pred > 0:\n",
    "            target = \">50K\"\n",
    "        else:\n",
    "            target = \"<=50K\"\n",
    "        rawfile[i].append(target)"
   ]
  },
  {
   "cell_type": "code",
   "execution_count": 208,
   "id": "386b4465",
   "metadata": {},
   "outputs": [],
   "source": [
    "# predict on semi-blind data\n",
    "perc_predictions(combo_blind, raw_blind, best_model) #reinitialize raw blind file"
   ]
  },
  {
   "cell_type": "code",
   "execution_count": 209,
   "id": "16ee8603",
   "metadata": {},
   "outputs": [],
   "source": [
    "# writing \n",
    "with open(\"perc.income.test.predicted\", \"w\") as output_file:\n",
    "    for person in raw_blind:\n",
    "        for features in person:\n",
    "            output_file.write(str(features))\n",
    "            if features != person[-1]:\n",
    "                output_file.write(\", \")\n",
    "        output_file.write(\"\\n\")"
   ]
  },
  {
   "cell_type": "markdown",
   "id": "75ba6f08",
   "metadata": {},
   "source": [
    "The k-nearest neighbors and averaged perceptron algorithm achieved 16.2% and 16.3% test error rate, respectively."
   ]
  }
 ],
 "metadata": {
  "kernelspec": {
   "display_name": "Python 3 (ipykernel)",
   "language": "python",
   "name": "python3"
  },
  "language_info": {
   "codemirror_mode": {
    "name": "ipython",
    "version": 3
   },
   "file_extension": ".py",
   "mimetype": "text/x-python",
   "name": "python",
   "nbconvert_exporter": "python",
   "pygments_lexer": "ipython3",
   "version": "3.9.7"
  }
 },
 "nbformat": 4,
 "nbformat_minor": 5
}
