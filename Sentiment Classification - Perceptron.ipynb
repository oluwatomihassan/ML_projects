{
 "cells": [
  {
   "cell_type": "code",
   "execution_count": 40,
   "id": "db704865",
   "metadata": {},
   "outputs": [],
   "source": [
    "from __future__ import division\n",
    "import nltk\n",
    "import time\n",
    "from svectoredit2 import svector\n",
    "import numpy as np\n",
    "import pandas as pd\n",
    "from collections import defaultdict"
   ]
  },
  {
   "cell_type": "code",
   "execution_count": 41,
   "id": "7a7dd38a",
   "metadata": {},
   "outputs": [],
   "source": [
    "# text pre-processing\n",
    "def read_from(textfile):\n",
    "    for line in open(textfile):\n",
    "        label, words = line.strip().split(\"\\t\")\n",
    "        yield (1 if label==\"+\" else -1, words.split())"
   ]
  },
  {
   "cell_type": "code",
   "execution_count": 42,
   "id": "135c0f3f",
   "metadata": {},
   "outputs": [],
   "source": [
    "# creates vector of words and adds bias dimension\n",
    "def make_vector(words):\n",
    "    v = svector()\n",
    "    for word in words:\n",
    "        v[word] += 1\n",
    "    v[\"<bias>\"]=1\n",
    "    return v"
   ]
  },
  {
   "cell_type": "code",
   "execution_count": 43,
   "id": "1b6ae510",
   "metadata": {},
   "outputs": [],
   "source": [
    "# evaluates model predictions\n",
    "def test(devfile, model):\n",
    "    tot, err = 0, 0\n",
    "    for i, (label, words) in enumerate(read_from(devfile), 1):\n",
    "        err += label * (model.dot(make_vector(words))) <= 0\n",
    "        pred = model.dot(make_vector(words))\n",
    "    return err/i # i is |D| now"
   ]
  },
  {
   "cell_type": "code",
   "execution_count": 44,
   "id": "7371dec3",
   "metadata": {},
   "outputs": [],
   "source": [
    "# predicts on blind data\n",
    "def blind_pred(devfile, model):\n",
    "    predictions= []\n",
    "    for i, (label, words) in enumerate(read_from(devfile), 1):\n",
    "        pred = model.dot(make_vector(words))\n",
    "        if pred > 0:\n",
    "            predictions.append(\"+\")\n",
    "        else: \n",
    "            predictions.append(\"-\")\n",
    "    return predictions"
   ]
  },
  {
   "cell_type": "code",
   "execution_count": 47,
   "id": "6ac70674",
   "metadata": {},
   "outputs": [],
   "source": [
    "# average perceptron on train data  \n",
    "def avg_train(trainfile, devfile, epochs=5):\n",
    "    t = time.time()\n",
    "    best_err = 1.\n",
    "    model = svector()\n",
    "    model_a = svector()\n",
    "    c=1\n",
    "    for it in range(1, epochs+1):\n",
    "        updates = 0\n",
    "        for i, (label, words) in enumerate(read_from(trainfile), 1): # label is +1 or -1\n",
    "            sent = make_vector(words)\n",
    "            if label * (model.dot(sent)) <= 0:\n",
    "                updates += 1\n",
    "                model += label * sent\n",
    "                model_a += label * sent * c\n",
    "            c +=1\n",
    "        avg_model = model - model_a/c\n",
    "        dev_err= test(devfile, model- (model_a/c))\n",
    "        best_err = min(best_err, dev_err)\n",
    "        print(\"epoch %d, update %.1f%%, dev %.1f%%\" % (it, updates / i * 100, dev_err * 100))\n",
    "    print(\"best dev err %.1f%%, |w|=%d, time: %.1f secs\" % (best_err * 100, len(model), time.time() - t))\n",
    "    return avg_model "
   ]
  },
  {
   "cell_type": "code",
   "execution_count": 48,
   "id": "0d0a0cc6",
   "metadata": {
    "scrolled": true
   },
   "outputs": [
    {
     "name": "stdout",
     "output_type": "stream",
     "text": [
      "epoch 1, update 39.0%, dev 31.4%\n",
      "epoch 2, update 25.5%, dev 27.7%\n",
      "epoch 3, update 20.8%, dev 27.2%\n",
      "epoch 4, update 17.2%, dev 27.6%\n",
      "epoch 5, update 14.1%, dev 27.2%\n",
      "epoch 6, update 12.2%, dev 26.7%\n",
      "epoch 7, update 10.5%, dev 26.3%\n",
      "epoch 8, update 9.7%, dev 26.4%\n",
      "best dev err 26.3%, |w|=15806, time: 1.0 secs\n"
     ]
    }
   ],
   "source": [
    "# tuning model \n",
    "trained_model= avg_train(\"./data/train.txt\", \"./data/dev.txt\", epochs=8)"
   ]
  },
  {
   "cell_type": "code",
   "execution_count": 52,
   "id": "bfa4759a",
   "metadata": {},
   "outputs": [],
   "source": [
    "# predict on blind data\n",
    "test_preds= blind_pred(\"./data/test.txt\", trained_model)"
   ]
  },
  {
   "cell_type": "code",
   "execution_count": 53,
   "id": "ef73610f",
   "metadata": {},
   "outputs": [],
   "source": [
    "# blind data text processing\n",
    "test = []\n",
    "for line in open(\"./data/test.txt\"):\n",
    "    clean = line.strip().split(\"\\t\")\n",
    "    test.append(clean[1])"
   ]
  },
  {
   "cell_type": "code",
   "execution_count": 54,
   "id": "f843807e",
   "metadata": {},
   "outputs": [],
   "source": [
    "# writes prediction to file \n",
    "with open(\"test.txt.predicted\", \"w\") as wf: \n",
    "    for x, y in zip(test_preds, test):\n",
    "        print(f\"{x}\\t{y}\", file=wf)"
   ]
  }
 ],
 "metadata": {
  "kernelspec": {
   "display_name": "Python 3 (ipykernel)",
   "language": "python",
   "name": "python3"
  },
  "language_info": {
   "codemirror_mode": {
    "name": "ipython",
    "version": 3
   },
   "file_extension": ".py",
   "mimetype": "text/x-python",
   "name": "python",
   "nbconvert_exporter": "python",
   "pygments_lexer": "ipython3",
   "version": "3.9.7"
  }
 },
 "nbformat": 4,
 "nbformat_minor": 5
}
